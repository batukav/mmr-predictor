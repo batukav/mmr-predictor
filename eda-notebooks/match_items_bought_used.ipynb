{
 "cells": [
  {
   "cell_type": "markdown",
   "id": "2de2d377",
   "metadata": {},
   "source": [
    "# Dota 2 Shop items bought and used during match\n",
    "\n",
    "# Items\n",
    "- Purchased with gold in shop during match\n",
    "- Some are dropped by creeps\n",
    "- Lower tier items (basic) can be combined into higher tier items (upgraded) using recipes\n",
    "- Heroes have 6 item slots\n",
    "\n",
    "https://dota2.fandom.com/wiki/Items\n",
    "\n",
    "# OpenDota API match JSON\n",
    "- `match.players.item_uses`\n",
    "- `match.players.purchase`\n",
    "- Item list will have both `bloodthorn` and `recipe_bloodthorn`\n"
   ]
  },
  {
   "cell_type": "code",
   "execution_count": 1,
   "id": "fddd47b3",
   "metadata": {},
   "outputs": [],
   "source": [
    "# Imports\n",
    "from tqdm import tqdm\n",
    "import glob\n",
    "import os\n",
    "import json\n",
    "from pprint import pprint\n",
    "import pandas as pd\n",
    "pd.options.mode.chained_assignment = None  # default='warn'\n",
    "import seaborn as sns\n",
    "import matplotlib.pyplot as plt\n",
    "from PIL import Image\n",
    "from sklearn.decomposition import PCA\n",
    "from sklearn.preprocessing import StandardScaler\n",
    "\n",
    "import os\n",
    "import sys\n",
    "sys.path.append(os.path.join(\"..\", \"src\"))\n",
    "from game_data_collector.api import Role, get_hero_ids_of_role"
   ]
  },
  {
   "cell_type": "markdown",
   "id": "39c682b7",
   "metadata": {},
   "source": [
    "### build df"
   ]
  },
  {
   "cell_type": "code",
   "execution_count": 2,
   "id": "d96ce7f6",
   "metadata": {},
   "outputs": [
    {
     "name": "stdout",
     "output_type": "stream",
     "text": [
      "found 22,529 match dumps\n"
     ]
    }
   ],
   "source": [
    "# Building the data frame from the raw data\n",
    "# TODO I'm skipping the database integration for now (query building etc.) to cut some time for faster EDA\n",
    "\n",
    "json_files = list(glob.iglob(\"C:\\\\Users\\\\cedri\\\\dota-project\\\\mmr-predictor\\\\resources\\\\data\\\\*.json\"))\n",
    "print(f\"found {len(json_files):,} match dumps\")"
   ]
  },
  {
   "cell_type": "code",
   "execution_count": 3,
   "id": "15ca9153",
   "metadata": {},
   "outputs": [
    {
     "name": "stderr",
     "output_type": "stream",
     "text": [
      "100%|██████████| 22529/22529 [00:33<00:00, 664.01it/s]"
     ]
    },
    {
     "name": "stdout",
     "output_type": "stream",
     "text": [
      "found 305 distinct items in the data\n",
      "found 226 items without recipes\n"
     ]
    },
    {
     "name": "stderr",
     "output_type": "stream",
     "text": [
      "\n"
     ]
    }
   ],
   "source": [
    "# Get all distinct items from the data for the cols\n",
    "distinct_items = set()\n",
    "\n",
    "# 5m20s\n",
    "for j in tqdm(json_files, total=len(json_files)):\n",
    "    with open(j, \"r\", encoding=\"utf-8\") as fi:\n",
    "        match = json.load(fi)\n",
    "        for player in match[\"players\"]:\n",
    "            # Combine item uses and purchases into one loop\n",
    "            distinct_items.update(player[\"item_uses\"].keys())\n",
    "            distinct_items.update(player[\"purchase\"].keys())\n",
    "\n",
    "print(f\"found {len(distinct_items):,} distinct items in the data\")\n",
    "# print(\"\\n\".join([d for d in distinct_items]))\n",
    "\n",
    "distinct_items_only = [i for i in distinct_items if \"recipe\" not in i]\n",
    "print(f\"found {len(distinct_items_only):,} items without recipes\")"
   ]
  },
  {
   "cell_type": "markdown",
   "id": "2f25cc54",
   "metadata": {},
   "source": [
    "### player item uses"
   ]
  },
  {
   "cell_type": "code",
   "execution_count": 4,
   "id": "6987048e",
   "metadata": {},
   "outputs": [
    {
     "name": "stderr",
     "output_type": "stream",
     "text": [
      "100%|██████████| 22529/22529 [00:34<00:00, 654.59it/s]\n"
     ]
    },
    {
     "name": "stdout",
     "output_type": "stream",
     "text": [
      "df with 92,005 players item uses\n"
     ]
    }
   ],
   "source": [
    "# Let's start with item uses\n",
    "\n",
    "cols = [\"hero_id\", \"rank_tier\", \"kda\", \"gold_per_min\"] + list(distinct_items_only)\n",
    "data_rows = []\n",
    "\n",
    "# 34s\n",
    "for j in tqdm(json_files, total=len(json_files)):\n",
    "    with open(j, \"r\", encoding=\"utf-8\") as fi:\n",
    "        match = json.load(fi)\n",
    "                \n",
    "        for player in match[\"players\"]:\n",
    "            \n",
    "            # filter players not in rank tier interval (0, 80)\n",
    "            if (player[\"rank_tier\"] == None) or (player[\"rank_tier\"] == 80):\n",
    "                continue\n",
    "            \n",
    "            # Initialize a dictionary for the current row\n",
    "            row_data = {col: 0 for col in cols}  # Set default counts to 0\n",
    "            \n",
    "            # player stats\n",
    "            row_data[\"hero_id\"] = player[\"hero_id\"]\n",
    "            row_data[\"rank_tier\"] = player[\"rank_tier\"]\n",
    "            row_data[\"kda\"] = player[\"kda\"]\n",
    "            row_data[\"gold_per_min\"] = player[\"gold_per_min\"]\n",
    "\n",
    "            # Update counts based on the player's item uses and purchases\n",
    "            for item, count in player[\"item_uses\"].items():\n",
    "                if item in row_data:\n",
    "                    row_data[item] += count\n",
    "        \n",
    "            data_rows.append(row_data)\n",
    "\n",
    "df_item_uses = pd.DataFrame(data_rows)\n",
    "print(f\"df with {len(df_item_uses):,} players item uses\") # note that 10 player per match = match count times 10"
   ]
  },
  {
   "cell_type": "code",
   "execution_count": 5,
   "id": "93b0d85d",
   "metadata": {},
   "outputs": [
    {
     "name": "stdout",
     "output_type": "stream",
     "text": [
      "rank_tier          1.000000\n",
      "quelling_blade     0.106584\n",
      "power_treads       0.100497\n",
      "gold_per_min       0.084440\n",
      "tango              0.084408\n",
      "                     ...   \n",
      "glimmer_cape      -0.016106\n",
      "ward_dispenser    -0.018241\n",
      "enchanted_mango   -0.024239\n",
      "shadow_amulet     -0.025911\n",
      "invis_sword       -0.028520\n",
      "Name: rank_tier, Length: 132, dtype: float64\n"
     ]
    }
   ],
   "source": [
    "# Calculate the correlation matrix\n",
    "correlation_matrix = df_item_uses.corr()\n",
    "\n",
    "# Extract the correlation of all columns with 'rank_tier'\n",
    "rank_tier_correlation = correlation_matrix['rank_tier'].drop(columns=[\"hero_id\", \"kda\", \"gold_per_min\"]).sort_values(ascending=False).dropna()\n",
    "\n",
    "# Print the correlation with rank_tier\n",
    "print(rank_tier_correlation)"
   ]
  },
  {
   "cell_type": "markdown",
   "id": "cc14a807",
   "metadata": {},
   "source": [
    "### PCA of item used\n",
    "\n",
    "\n",
    "TODO: Look at specific hero roles rather than at all classes might produce some more meaningful results"
   ]
  },
  {
   "cell_type": "code",
   "execution_count": 6,
   "id": "de3b4a29",
   "metadata": {},
   "outputs": [
    {
     "name": "stdout",
     "output_type": "stream",
     "text": [
      "(92005, 226)\n",
      "\n",
      "preview of the first 5 PCs:\n",
      "        PC1       PC2       PC3       PC4       PC5\n",
      "0  2.219334 -0.199512 -0.346145 -0.377145 -0.089146\n",
      "1 -0.691853  0.750845 -0.882895 -1.324274 -0.909313\n",
      "2 -0.424086  0.654621 -0.729224 -1.384323 -0.862887\n",
      "3 -0.417838  0.554094 -0.558946 -0.387742 -0.985827\n",
      "4  0.781095 -0.225483 -1.409099  0.240768 -0.614009\n",
      "\n",
      "Proportion of Variance Explained per PC: [0.03742774 0.01990786 0.01608841 0.01522237 0.01446721]\n"
     ]
    }
   ],
   "source": [
    "# do a PCA to figure out important items (and reduce dimensions)\n",
    "\n",
    "# Separate features and target variable\n",
    "X = df_item_uses.drop(columns=['rank_tier', \"hero_id\", \"kda\", \"gold_per_min\"])  # Drop identifiers and target\n",
    "y = df_item_uses['rank_tier']\n",
    "\n",
    "# Standardize the features\n",
    "scaler = StandardScaler()\n",
    "X_scaled = scaler.fit_transform(X)\n",
    "\n",
    "# Fit PCA\n",
    "pca = PCA()\n",
    "X_pca = pca.fit_transform(X_scaled)\n",
    "\n",
    "pc_all_kpis = pd.DataFrame(X_pca, columns=[f\"PC{n}\" for n in range(1, X_pca.shape[1]+1)])\n",
    "print(pc_all_kpis.shape)\n",
    "print(\"\\npreview of the first 5 PCs:\")\n",
    "print(pc_all_kpis.iloc[:, :5].head())\n",
    "\n",
    "print('\\nProportion of Variance Explained per PC:', pca.explained_variance_ratio_[:5])\n"
   ]
  },
  {
   "cell_type": "code",
   "execution_count": 7,
   "id": "856499b2",
   "metadata": {},
   "outputs": [
    {
     "name": "stdout",
     "output_type": "stream",
     "text": [
      "First 10 most important features for PC1 (0.037 of PVE):\n",
      "\n",
      "0.36\tultimate_orb\n",
      "0.34\tboots\n",
      "0.3\tgauntlets\n",
      "0.29\ttpscroll\n",
      "0.25\tbranches\n",
      "0.25\torb_of_venom\n",
      "0.19\tbloodstone\n",
      "0.18\tforce_staff\n",
      "0.14\tchainmail\n",
      "0.13\trod_of_atos\n",
      "0.12\thelm_of_iron_will\n",
      "0.11\tfluffy_hat\n",
      "0.11\tblade_of_alacrity\n",
      "0.11\tcraggy_coat\n",
      "0.1\tmonkey_king_bar\n",
      "0.1\tghost\n",
      "0.093\tdagon_5\n",
      "0.084\thelm_of_the_dominator\n",
      "0.07\taether_lens\n",
      "0.069\tblades_of_attack\n"
     ]
    }
   ],
   "source": [
    "print(f\"First 10 most important features for PC1 ({pca.explained_variance_ratio_[0]:.2} of PVE):\\n\")\n",
    "\n",
    "for f, i in sorted(zip(df_item_uses.columns[5:], pca.components_[0]), key=lambda x: x[1], reverse=True)[:20]:\n",
    "    print(f\"{i:.2}\\t{f}\")"
   ]
  },
  {
   "cell_type": "code",
   "execution_count": 8,
   "id": "5b55b3e5",
   "metadata": {},
   "outputs": [
    {
     "name": "stdout",
     "output_type": "stream",
     "text": [
      "First 10 most important features for PC2 (0.02 of PVE):\n",
      "\n",
      "0.37\trefresher\n",
      "0.37\tethereal_blade\n",
      "0.37\tpolliwog_charm\n",
      "0.36\tarcane_blink\n",
      "0.35\ttiara_of_selemene\n",
      "0.3\tboots_of_elves\n",
      "0.16\tvanguard\n",
      "0.15\tward_observer\n",
      "0.12\tjavelin\n",
      "0.095\tultimate_scepter_roshan\n",
      "0.082\tblade_of_alacrity\n",
      "0.077\tmagic_wand\n",
      "0.071\tlifesteal\n",
      "0.071\tclaymore\n",
      "0.069\tgauntlets\n",
      "0.056\theart\n",
      "0.049\ttalisman_of_evasion\n",
      "0.042\tpirate_hat\n",
      "0.036\tquelling_blade\n",
      "0.033\tsilver_edge\n"
     ]
    }
   ],
   "source": [
    "print(f\"First 10 most important features for PC2 ({pca.explained_variance_ratio_[1]:.2} of PVE):\\n\")\n",
    "\n",
    "for f, i in sorted(zip(df_item_uses.columns[5:], pca.components_[1]), key=lambda x: x[1], reverse=True)[:20]:\n",
    "    print(f\"{i:.2}\\t{f}\")"
   ]
  },
  {
   "cell_type": "code",
   "execution_count": 9,
   "id": "bee57bcb",
   "metadata": {},
   "outputs": [
    {
     "name": "stdout",
     "output_type": "stream",
     "text": [
      "First 10 most important features for PC3 (0.016 of PVE):\n",
      "\n",
      "0.38\tquelling_blade\n",
      "0.33\tbasher\n",
      "0.3\tshivas_guard\n",
      "0.24\ttalisman_of_evasion\n",
      "0.2\tsilver_edge\n",
      "0.19\tmagic_wand\n",
      "0.16\tsange_and_yasha\n",
      "0.14\tessence_ring\n",
      "0.14\ttrusty_shovel\n",
      "0.12\tlifesteal\n",
      "0.11\theart\n",
      "0.11\tdemon_edge\n",
      "0.11\tvladmir\n",
      "0.11\tmithril_hammer\n",
      "0.1\tunstable_wand\n",
      "0.1\tmonkey_king_bar\n",
      "0.098\tgreat_famango\n",
      "0.097\tbullwhip\n",
      "0.094\tbroadsword\n",
      "0.092\tnullifier\n"
     ]
    }
   ],
   "source": [
    "print(f\"First 10 most important features for PC3 ({pca.explained_variance_ratio_[2]:.2} of PVE):\\n\")\n",
    "\n",
    "for f, i in sorted(zip(df_item_uses.columns[5:], pca.components_[2]), key=lambda x: x[1], reverse=True)[:20]:\n",
    "    print(f\"{i:.2}\\t{f}\")"
   ]
  }
 ],
 "metadata": {
  "kernelspec": {
   "display_name": "Python 3",
   "language": "python",
   "name": "python3"
  },
  "language_info": {
   "codemirror_mode": {
    "name": "ipython",
    "version": 3
   },
   "file_extension": ".py",
   "mimetype": "text/x-python",
   "name": "python",
   "nbconvert_exporter": "python",
   "pygments_lexer": "ipython3",
   "version": "undefined.undefined.undefined"
  }
 },
 "nbformat": 4,
 "nbformat_minor": 5
}
